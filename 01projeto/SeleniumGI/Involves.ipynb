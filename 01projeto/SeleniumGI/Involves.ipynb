{
 "cells": [
  {
   "cell_type": "code",
   "execution_count": 523,
   "metadata": {},
   "outputs": [],
   "source": [
    "#Bibliotecas\n",
    "# import pandas as pd\n",
    "#from bs4 import BeautifulSoup\n",
    "import pytz\n",
    "from datetime import datetime \n",
    "from datetime import date\n",
    "from datetime import timedelta\n",
    "from dateutil.relativedelta import relativedelta\n",
    "\n",
    "from selenium.webdriver import Firefox\n",
    "from selenium.webdriver.common.by import By\n",
    "from selenium.webdriver.common.keys import Keys\n",
    "from time import sleep\n",
    " \n",
    "from selenium.webdriver.common.action_chains import ActionChains\n",
    "from selenium.webdriver.support.ui import WebDriverWait\n",
    "from selenium.webdriver.support import expected_conditions as EC\n",
    "\n",
    "from selenium.webdriver.support.ui import Select\n",
    "\n",
    "\n",
    "date_now = datetime.now(pytz.timezone('America/Sao_Paulo'))\n",
    "\n",
    "date_yesterday = date_now - timedelta(days=1)\n",
    "start_of_month = date_now.replace(day=1)\n",
    "\n",
    "start_of_month = start_of_month.strftime('%d/%m/%y')\n",
    "date_yesterday = date_yesterday.strftime('%d/%m/%y')\n",
    "\n",
    "\n",
    "url = 'https://gigroup-c2c.involves.com/login/#/'\n",
    "driver = Firefox()\n",
    "driver.get(url)\n",
    "sleep(1.2)"
   ]
  },
  {
   "cell_type": "code",
   "execution_count": 524,
   "metadata": {},
   "outputs": [],
   "source": [
    "userlogin = 'igor.pereirasilva'\n",
    "userpassword = '123456'\n",
    "\n",
    "#Encontrar elementos\n",
    "#Login e Senha\n",
    "field_login = driver.find_elements(By.XPATH, '//input[@id=\"username\"]')[0]\n",
    "field_password = driver.find_elements(By.XPATH, '//input[@id=\"password\"]')[0]\n",
    "field_login.send_keys(userlogin)\n",
    "field_password.send_keys(userpassword)\n",
    "btn_login = driver.find_elements(By.XPATH, '//button[@class=\"inv-btn submit-button\"]')[0].click()\n",
    "\n",
    "driver.implicitly_wait(10)\n",
    "\n",
    "procura = driver.find_elements(By.XPATH, \\\n",
    "                    '//*[contains(translate(text(), \"ABCDEFGHIJKLMNOPQRSTUVWXYZ\", \"abcdefghijklmnopqrstuvwxyz\"), \"danke\")]')\n",
    "\n",
    "procura[0].click()\n",
    "\n",
    "\n",
    "#Menu esquerdo elemento\n",
    "teste = driver.find_element(By.XPATH, \\\n",
    "                            '//div[@class=\"js-menu ng-scope\"]//*[contains(text(), \"Dashboard\")]')\n",
    "\n",
    "# Use ActionChains to perform a hover action\n",
    "action = ActionChains(driver)\n",
    "action.move_to_element(teste).perform()\n",
    "\n",
    "# Wait for the body to have the class \"isMenuOpen\"\n",
    "wait = WebDriverWait(driver, 10)\n",
    "wait.until(EC.presence_of_element_located((By.XPATH, '//body[@class=\"isMenuOpen\"]')))\n",
    "\n",
    "#Categoria 1 Menu\n",
    "Roteiros_e_visitas = driver.find_element(By.XPATH, \\\n",
    "                                    '//body[@class=\"isMenuOpen\"]//div[@class=\"js-menu ng-scope\"]//*[contains(text(), \"Roteiros e visitas\")]')\n",
    "\n",
    "Roteiros_e_visitas.click()\n",
    "\n",
    "#SubCategoria 1 Menu\n",
    "Painel_de_visitas = driver.find_element(By.XPATH, \\\n",
    "                                         '//ap-menu-list-subitem//div[@class=\"ng-scope\"]//*[@href=\"#!/app/~2F3Js8c5PAuuyjaQcA8HMKQ%3D%3D/paineldevisitas\"]')\n",
    "\n",
    "Painel_de_visitas.click()"
   ]
  },
  {
   "cell_type": "code",
   "execution_count": 525,
   "metadata": {},
   "outputs": [],
   "source": [
    "#Retorna lista com os dois campos de input data, campos de placeholder separa em 'De' e 'Até'\n",
    "date_filter_de = driver.find_element(By.XPATH, \\\n",
    "                                    '//div[@class=\"c-data-period ng-scope ng-isolate-scope\"]//*[@class=\"c-input c-datepicker--filter ng-not-empty ng-valid-required ng-valid-date\" and @placeholder=\"De\"]')\n",
    "\n",
    "date_filter_de.clear() #Limpar a data\n",
    "date_filter_de.send_keys(start_of_month)\n",
    "\n",
    "\n",
    "date_filter_ate = driver.find_element(By.XPATH, \\\n",
    "                                    '//div[@class=\"c-data-period ng-scope ng-isolate-scope\"]//*[@class=\"c-input c-datepicker--filter ng-not-empty ng-valid-required ng-valid-date\" and @placeholder=\"Até\"]')\n",
    "\n",
    "date_filter_ate.clear() #Limpar a data\n",
    "date_filter_ate.send_keys(date_yesterday)"
   ]
  },
  {
   "cell_type": "code",
   "execution_count": 526,
   "metadata": {},
   "outputs": [],
   "source": [
    "#Elemento Botao Pesquisar (DIVs Botoes Incluso)\n",
    "btn = driver.find_elements(By.XPATH, \n",
    "                           '//div[@class=\"stg-filter-action ng-isolate-scope\"]/ap-button[@class=\"ng-scope ng-isolate-scope\"]//*[contains(text(), \"Pesquisar\")]')\n",
    "btn[0].click()"
   ]
  },
  {
   "cell_type": "code",
   "execution_count": 527,
   "metadata": {},
   "outputs": [],
   "source": [
    "#Botao inferior opcoes de exportacao\n",
    "btn_options_closed = driver.find_element(By.XPATH,\n",
    "                                   '//div[@class=\"c-view__footer-options ng-scope dropdown\"]')\n",
    "\n",
    "btn_options_closed.click()"
   ]
  },
  {
   "cell_type": "code",
   "execution_count": 528,
   "metadata": {},
   "outputs": [],
   "source": [
    "#Clicar em relatorio gerencial\n",
    "sleep(3)\n",
    "btn_options_opened = driver.find_elements(By.XPATH,\n",
    "                                         '//div[@class=\"c-view__footer-options ng-scope dropdown open\"]//ul[@class=\"dropdown-menu\"]//*[contains(text(), \"Relatório Gerencial\")]')\n",
    "\n",
    "btn_options_opened[0].click()"
   ]
  },
  {
   "cell_type": "code",
   "execution_count": 529,
   "metadata": {},
   "outputs": [],
   "source": [
    "#Adicionar coluna de ID_DO_PDV\n",
    "#Seletor Colunas Ocultas\n",
    "\n",
    "#Elemento de texto arvore\n",
    "sleep(2)\n",
    "Texto_Colunas_Ocultas = driver.find_element(By.XPATH,\n",
    "                                  '//h4/translate[contains(text(), \"Colunas ocultas\")]')\n",
    "\n",
    "#Elemento da arvore que contem lista de itens ocultados do relatorio\n",
    "item_avo = Texto_Colunas_Ocultas.find_element(By.XPATH, '../..') # 2 itens acima\n",
    "\n",
    "botao_id_pdv = item_avo.find_element(By.XPATH, './div/div/button')\n",
    "botao_id_pdv.click()"
   ]
  },
  {
   "cell_type": "code",
   "execution_count": 530,
   "metadata": {},
   "outputs": [],
   "source": [
    "#Clicar no botao confirmar para baixar o relatorio\n",
    "botao_confirmar = driver.find_element(By.XPATH,\n",
    "                                       '//div[@class=\"c-view__footer-actions ng-scope ng-isolate-scope\"]//*[contains(text(), \"Confirmar\")]')\n",
    "\n",
    "botao_confirmar.click()"
   ]
  }
 ],
 "metadata": {
  "kernelspec": {
   "display_name": "venv",
   "language": "python",
   "name": "python3"
  },
  "language_info": {
   "codemirror_mode": {
    "name": "ipython",
    "version": 3
   },
   "file_extension": ".py",
   "mimetype": "text/x-python",
   "name": "python",
   "nbconvert_exporter": "python",
   "pygments_lexer": "ipython3",
   "version": "3.12.1"
  }
 },
 "nbformat": 4,
 "nbformat_minor": 2
}
