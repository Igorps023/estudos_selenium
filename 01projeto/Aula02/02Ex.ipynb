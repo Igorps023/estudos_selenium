{
 "cells": [
  {
   "cell_type": "code",
   "execution_count": 2,
   "metadata": {},
   "outputs": [
    {
     "name": "stdout",
     "output_type": "stream",
     "text": [
      "Procurar esse elemento: 1\n",
      "3\n",
      "8\n",
      "8\n",
      "Você ganhou: 1\n"
     ]
    }
   ],
   "source": [
    "from selenium.webdriver import Firefox\n",
    "from selenium.webdriver.common.by import By\n",
    "import time\n",
    "#url = 'https:www.google.com.br'\n",
    "url = 'https://curso-python-selenium.netlify.app/exercicio_02.html'\n",
    "browser = Firefox()\n",
    "browser.get(url)\n",
    "time.sleep(1.5)\n",
    "\n",
    "#Elemento de busca\n",
    "elementos_p = browser.find_elements(By.TAG_NAME, 'p')\n",
    "\n",
    "#ultima letra\n",
    "valor_procurado = elementos_p[-1].text[-1]\n",
    "\n",
    "#Botao p click\n",
    "elementos_a = browser.find_element(By.TAG_NAME, 'a')\n",
    "\n",
    "print(f'Numero esperado: {valor_procurado}')\n",
    "variavel = None\n",
    "while variavel is None or variavel[-1] != valor_procurado:\n",
    "    elementos_a.click()\n",
    "    elementos_procura = browser.find_elements(By.TAG_NAME, 'p')[-1]\n",
    "    variavel = elementos_procura.text\n",
    "    print(elementos_procura.text)\n"
   ]
  },
  {
   "cell_type": "code",
   "execution_count": null,
   "metadata": {},
   "outputs": [],
   "source": []
  }
 ],
 "metadata": {
  "kernelspec": {
   "display_name": "venv",
   "language": "python",
   "name": "python3"
  },
  "language_info": {
   "codemirror_mode": {
    "name": "ipython",
    "version": 3
   },
   "file_extension": ".py",
   "mimetype": "text/x-python",
   "name": "python",
   "nbconvert_exporter": "python",
   "pygments_lexer": "ipython3",
   "version": "3.12.1"
  }
 },
 "nbformat": 4,
 "nbformat_minor": 2
}
