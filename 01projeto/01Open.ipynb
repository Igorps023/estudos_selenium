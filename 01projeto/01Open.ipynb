{
 "cells": [
  {
   "cell_type": "code",
   "execution_count": 101,
   "metadata": {},
   "outputs": [
    {
     "name": "stdout",
     "output_type": "stream",
     "text": [
      "Valor ultimo p: 0 Valor do Click:0\n",
      "Valores sao iguais True\n",
      "Valor ultimo p: 1 Valor do Click:1\n",
      "Valores sao iguais True\n",
      "Valor ultimo p: 2 Valor do Click:2\n",
      "Valores sao iguais True\n",
      "Valor ultimo p: 3 Valor do Click:3\n",
      "Valores sao iguais True\n",
      "Valor ultimo p: 4 Valor do Click:4\n",
      "Valores sao iguais True\n",
      "Valor ultimo p: 5 Valor do Click:5\n",
      "Valores sao iguais True\n",
      "Valor ultimo p: 6 Valor do Click:6\n",
      "Valores sao iguais True\n",
      "Valor ultimo p: 7 Valor do Click:7\n",
      "Valores sao iguais True\n",
      "Valor ultimo p: 8 Valor do Click:8\n",
      "Valores sao iguais True\n",
      "Valor ultimo p: 9 Valor do Click:9\n",
      "Valores sao iguais True\n"
     ]
    }
   ],
   "source": [
    "from selenium.webdriver import Firefox\n",
    "from selenium.webdriver.common.by import By\n",
    "import time\n",
    "#url = 'https:www.google.com.br'\n",
    "url = 'https://curso-python-selenium.netlify.app/aula_03.html'\n",
    "browser = Firefox()\n",
    "browser.get(url)\n",
    "time.sleep(1.5)\n",
    "elemento_a = browser.find_element(By.TAG_NAME, \"a\")\n",
    "\n",
    "for click in range(10):\n",
    "    ps = browser.find_elements(By.TAG_NAME, \"p\")\n",
    "    elemento_a.click()\n",
    "    print(f'Valor ultimo p: {ps[-1].text} Valor do Click:{click}')\n",
    "    print(f'Valores sao iguais {ps[-1].text == str(click)}')"
   ]
  },
  {
   "cell_type": "code",
   "execution_count": 97,
   "metadata": {},
   "outputs": [
    {
     "data": {
      "text/plain": [
       "11"
      ]
     },
     "execution_count": 97,
     "metadata": {},
     "output_type": "execute_result"
    }
   ],
   "source": [
    "len(elemento_p)"
   ]
  },
  {
   "cell_type": "code",
   "execution_count": 99,
   "metadata": {},
   "outputs": [
    {
     "data": {
      "text/plain": [
       "'10'"
      ]
     },
     "execution_count": 99,
     "metadata": {},
     "output_type": "execute_result"
    }
   ],
   "source": [
    "elemento_p[-1].text"
   ]
  },
  {
   "cell_type": "code",
   "execution_count": null,
   "metadata": {},
   "outputs": [],
   "source": []
  }
 ],
 "metadata": {
  "kernelspec": {
   "display_name": "venv",
   "language": "python",
   "name": "python3"
  },
  "language_info": {
   "codemirror_mode": {
    "name": "ipython",
    "version": 3
   },
   "file_extension": ".py",
   "mimetype": "text/x-python",
   "name": "python",
   "nbconvert_exporter": "python",
   "pygments_lexer": "ipython3",
   "version": "3.12.1"
  }
 },
 "nbformat": 4,
 "nbformat_minor": 2
}
