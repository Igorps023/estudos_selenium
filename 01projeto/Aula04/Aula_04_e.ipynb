{
 "cells": [
  {
   "cell_type": "markdown",
   "metadata": {},
   "source": [
    "### Principais pontos:\n",
    "- Historico Browser\n",
    "- Forward e Back no historico da Janela\n",
    "- URLlib (ParseResult)\n",
    "\n",
    "Historico e Location sao coisas diferentes\n",
    "Historico -> Back() e Forward()\n",
    "\n",
    "Location -> Refresh()"
   ]
  },
  {
   "cell_type": "code",
   "execution_count": null,
   "metadata": {},
   "outputs": [],
   "source": [
    "\"\"\"\n",
    "1- {'nome da aula': 'link da aula'}\n",
    "2- Achar a url do exercicio 3 e ir ate a pagina\n",
    "\"\"\""
   ]
  },
  {
   "cell_type": "code",
   "execution_count": 38,
   "metadata": {},
   "outputs": [
    {
     "name": "stdout",
     "output_type": "stream",
     "text": [
      "{'Aula 3': 'https://curso-python-selenium.netlify.app/aula_03.html',\n",
      " 'Aula 4': 'https://curso-python-selenium.netlify.app/aula_04.html',\n",
      " 'Aula 5': 'https://curso-python-selenium.netlify.app/aula_05.html',\n",
      " 'Aula 6': 'https://curso-python-selenium.netlify.app/aula_06.html',\n",
      " 'Aula 7': 'https://curso-python-selenium.netlify.app/aula_07.html',\n",
      " 'Aula 8': 'https://curso-python-selenium.netlify.app/aula_08.html',\n",
      " 'Aula 9': 'https://curso-python-selenium.netlify.app/aula_09.html'}\n"
     ]
    }
   ],
   "source": [
    "from selenium.webdriver import Firefox\n",
    "from selenium.webdriver.common.by import By\n",
    "from time import sleep\n",
    "from urllib.parse import urlparse\n",
    "from pprint import pprint\n",
    "\n",
    "url = 'https://curso-python-selenium.netlify.app/aula_04.html'\n",
    "browser = Firefox()\n",
    "browser.get(url)\n",
    "sleep(2)\n",
    "\"\"\"\n",
    "PARTE 1\n",
    "\"\"\"\n",
    "aside = browser.find_element(By.TAG_NAME, 'aside') #Aulas #Lista\n",
    "links_aula = aside.find_elements(By.TAG_NAME, 'a')\n",
    "\n",
    "dicionario_aula = {}\n",
    "\n",
    "for ancora in links_aula:\n",
    "    dicionario_aula[ancora.text] = ancora.get_attribute('href')\n",
    "\n",
    "pprint(dicionario_aula)"
   ]
  },
  {
   "cell_type": "code",
   "execution_count": 44,
   "metadata": {},
   "outputs": [],
   "source": [
    "from selenium.webdriver import Firefox\n",
    "from selenium.webdriver.common.by import By\n",
    "from time import sleep\n",
    "from urllib.parse import urlparse\n",
    "from pprint import pprint\n",
    "\n",
    "url = 'https://curso-python-selenium.netlify.app/aula_04.html'\n",
    "browser = Firefox()\n",
    "browser.get(url)\n",
    "sleep(2)\n",
    "\"\"\"\n",
    "PARTE 2\n",
    "\"\"\"\n",
    "main = browser.find_element(By.TAG_NAME, 'main')\n",
    "ancora_exercicios = main.find_elements(By.TAG_NAME, 'a')\n",
    "\n",
    "dicionario_exercicios = {}\n",
    "\n",
    "for exercicio in ancora_exercicios:\n",
    "    dicionario_exercicios[exercicio.text] = exercicio.get_attribute('href')\n",
    "\n",
    "dicionario_exercicios\n",
    "\n",
    "browser.get(dicionario_exercicios['Exercício 3'])"
   ]
  }
 ],
 "metadata": {
  "kernelspec": {
   "display_name": "venv",
   "language": "python",
   "name": "python3"
  },
  "language_info": {
   "codemirror_mode": {
    "name": "ipython",
    "version": 3
   },
   "file_extension": ".py",
   "mimetype": "text/x-python",
   "name": "python",
   "nbconvert_exporter": "python",
   "pygments_lexer": "ipython3",
   "version": "3.12.1"
  }
 },
 "nbformat": 4,
 "nbformat_minor": 2
}
