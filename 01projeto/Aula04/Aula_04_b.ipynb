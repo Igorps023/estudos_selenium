{
 "cells": [
  {
   "cell_type": "code",
   "execution_count": 8,
   "metadata": {},
   "outputs": [],
   "source": [
    "from selenium.webdriver import Firefox\n",
    "from selenium.webdriver.common.by import By\n",
    "import time\n",
    "\n",
    "\n",
    "def find_by_text(browser, tag, text):\n",
    "    \"\"\"Encontrar o elemento com o texto 'text'.\n",
    "    \n",
    "    - browser = Instancia do browser [Firefox, Chrome, Edge]\n",
    "    - tag = onde o texto sera procurado\n",
    "    - text = conteudo que deve estar na tag\n",
    "    \"\"\"\n",
    "    elementos = browser.find_elements(By.TAG_NAME, tag) #lista\n",
    "    for elemento in elementos:\n",
    "        if elemento.text == text:\n",
    "            return elemento\n",
    "\n",
    "def find_by_href(browser, link): #nao utilizamos tag por conta de hrefs geralmente ser classificado como ancora\n",
    "    \"\"\" Encontra o elemento 'a', com o link 'link'\n",
    "    - browser = Instancia do browser [Firefox, Chrome, Edge]\n",
    "    - link = link que sera procurado em todas as tags 'a'\n",
    "    \"\"\"\n",
    "    elementos = browser.find_elements(By.TAG_NAME, 'a') #Lista #Retorna todas as ancoras\n",
    "    for elemento in elementos:\n",
    "        if link in elemento.get_attribute('href'):\n",
    "            return elemento\n",
    "\n",
    "url = 'https://curso-python-selenium.netlify.app/aula_04_a.html'\n",
    "browser = Firefox()\n",
    "browser.get(url)\n",
    "\n",
    "time.sleep(1.5)\n",
    "\n",
    "elemento_ddg = find_by_text(browser, 'li', 'DuckDuckGo')\n",
    "\n",
    "elemento_link_duckduckgo = find_by_href(browser, 'ddg')"
   ]
  },
  {
   "cell_type": "code",
   "execution_count": 11,
   "metadata": {},
   "outputs": [
    {
     "data": {
      "text/plain": [
       "'http://ddg.gg/'"
      ]
     },
     "execution_count": 11,
     "metadata": {},
     "output_type": "execute_result"
    }
   ],
   "source": [
    "elemento_link_duckduckgo.get_attribute('href')"
   ]
  },
  {
   "cell_type": "code",
   "execution_count": null,
   "metadata": {},
   "outputs": [],
   "source": []
  }
 ],
 "metadata": {
  "kernelspec": {
   "display_name": "venv",
   "language": "python",
   "name": "python3"
  },
  "language_info": {
   "codemirror_mode": {
    "name": "ipython",
    "version": 3
   },
   "file_extension": ".py",
   "mimetype": "text/x-python",
   "name": "python",
   "nbconvert_exporter": "python",
   "pygments_lexer": "ipython3",
   "version": "3.12.1"
  }
 },
 "nbformat": 4,
 "nbformat_minor": 2
}
