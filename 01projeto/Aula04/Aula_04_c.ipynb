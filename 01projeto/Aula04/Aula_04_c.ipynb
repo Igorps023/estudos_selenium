{
 "cells": [
  {
   "cell_type": "markdown",
   "metadata": {},
   "source": [
    "Principais pontos:\n",
    "- Historico Browser\n",
    "- Forward e Back no historico da Janela"
   ]
  },
  {
   "cell_type": "code",
   "execution_count": 14,
   "metadata": {},
   "outputs": [],
   "source": [
    "from selenium.webdriver import Firefox\n",
    "from selenium.webdriver.common.by import By\n",
    "from time import sleep\n",
    "\n",
    "def find_by_text(browser, tag, text):\n",
    "    \"\"\"Encontrar o elemento com o texto 'text'.\n",
    "    \n",
    "    - browser = Instancia do browser [Firefox, Chrome, Edge]\n",
    "    - tag = onde o texto sera procurado\n",
    "    - text = conteudo que deve estar na tag\n",
    "    \"\"\"\n",
    "    elementos = browser.find_elements(By.TAG_NAME, tag) #lista\n",
    "    for elemento in elementos:\n",
    "        if elemento.text == text:\n",
    "            return elemento\n",
    "\n",
    "\n",
    "url = 'https://curso-python-selenium.netlify.app/aula_04_b.html'\n",
    "browser = Firefox()\n",
    "browser.get(url)\n",
    "\n",
    "time.sleep(1.5)\n",
    "\n",
    "caixas = ['um', 'dois', 'tres', 'quatro']\n",
    "\n",
    "for texto in caixas:\n",
    "    find_by_text(browser, 'div', texto).click()\n",
    "    sleep(0.25)\n",
    "\n",
    "for texto in caixas:\n",
    "    browser.back()\n",
    "    sleep(0.25)"
   ]
  }
 ],
 "metadata": {
  "kernelspec": {
   "display_name": "venv",
   "language": "python",
   "name": "python3"
  },
  "language_info": {
   "codemirror_mode": {
    "name": "ipython",
    "version": 3
   },
   "file_extension": ".py",
   "mimetype": "text/x-python",
   "name": "python",
   "nbconvert_exporter": "python",
   "pygments_lexer": "ipython3",
   "version": "3.12.1"
  }
 },
 "nbformat": 4,
 "nbformat_minor": 2
}
