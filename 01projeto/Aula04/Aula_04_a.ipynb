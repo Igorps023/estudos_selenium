{
 "cells": [
  {
   "cell_type": "code",
   "execution_count": 4,
   "metadata": {},
   "outputs": [
    {
     "data": {
      "text/plain": [
       "'DuckDuckGo\\nGoogle'"
      ]
     },
     "execution_count": 4,
     "metadata": {},
     "output_type": "execute_result"
    }
   ],
   "source": [
    "from selenium.webdriver import Firefox\n",
    "from selenium.webdriver.common.by import By\n",
    "import time\n",
    "#url = 'https:www.google.com.br'\n",
    "url = 'https://curso-python-selenium.netlify.app/aula_04_a.html'\n",
    "browser = Firefox()\n",
    "browser.get(url)\n",
    "\n",
    "time.sleep(1.5)\n",
    "\n",
    "#Elemento de busca\n",
    "var = browser.find_element(By.TAG_NAME, 'ul')\n",
    "var.text"
   ]
  },
  {
   "cell_type": "code",
   "execution_count": 12,
   "metadata": {},
   "outputs": [
    {
     "data": {
      "text/plain": [
       "2"
      ]
     },
     "execution_count": 12,
     "metadata": {},
     "output_type": "execute_result"
    }
   ],
   "source": [
    "#Buscando elemento 'li' dentro da minha variavel que representa o elemento 'ul'\n",
    "len(var.find_elements(By.TAG_NAME, 'li'))"
   ]
  },
  {
   "cell_type": "markdown",
   "metadata": {},
   "source": [
    "O comando .text esta trazendo todo o texto presente em 'li', que nesse caso, esta contido em 'a'\n",
    "<li>\n",
    "        <a href=\"http://ddg.gg\">DuckDuckGo</a>\n",
    "      </li>"
   ]
  },
  {
   "cell_type": "code",
   "execution_count": 14,
   "metadata": {},
   "outputs": [
    {
     "data": {
      "text/plain": [
       "'DuckDuckGo'"
      ]
     },
     "execution_count": 14,
     "metadata": {},
     "output_type": "execute_result"
    }
   ],
   "source": [
    "var.find_elements(By.TAG_NAME, 'li')[0].text"
   ]
  },
  {
   "cell_type": "code",
   "execution_count": null,
   "metadata": {},
   "outputs": [],
   "source": []
  }
 ],
 "metadata": {
  "kernelspec": {
   "display_name": "venv",
   "language": "python",
   "name": "python3"
  },
  "language_info": {
   "codemirror_mode": {
    "name": "ipython",
    "version": 3
   },
   "file_extension": ".py",
   "mimetype": "text/x-python",
   "name": "python",
   "nbconvert_exporter": "python",
   "pygments_lexer": "ipython3",
   "version": "3.12.1"
  }
 },
 "nbformat": 4,
 "nbformat_minor": 2
}
