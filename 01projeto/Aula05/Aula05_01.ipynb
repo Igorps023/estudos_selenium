{
 "cells": [
  {
   "cell_type": "markdown",
   "metadata": {},
   "source": [
    "##### Principais Pontos:\n",
    "  Atributos Globais\n",
    "- Busca por ID\n",
    "- Busca por Classes (reune varios itens)\n",
    "- Preenchimento Forms\n",
    "\n",
    "\n",
    "\n",
    "Atributo unico\n",
    "- Busca por nome (nao e um atributo global!!!)\n",
    "\n",
    "Atributos Globais (detalhe)\n",
    "- id = codigo\n",
    "- class = categoria, conjunto que compartilha as mesmas caracteristicas\n",
    "- autofocus = rolagem para parte especifica da pagina\n",
    "- acesskey = teclas de teclados para acessar elementos\n",
    "- title = apos passar o mouse cursor sobre um elemento, ele traz uma mensagem\n",
    "- hidden = oculto\n",
    "\n",
    "#Elementos Web\n",
    "- Input = elemento que o usuario possa interagir colocando ou selecionando dados\n",
    "- Label = adesivo, nome dado a algo\n",
    "- Todo atributo que pode ser enviado por formulario apresenta 'name'"
   ]
  },
  {
   "cell_type": "code",
   "execution_count": null,
   "metadata": {},
   "outputs": [],
   "source": []
  },
  {
   "cell_type": "code",
   "execution_count": 1,
   "metadata": {},
   "outputs": [],
   "source": [
    "#Parte1\n",
    "from selenium.webdriver import Firefox\n",
    "from selenium.webdriver.common.by import By\n",
    "from time import sleep\n",
    "\n",
    "url = 'https://curso-python-selenium.netlify.app/aula_05_a.html'\n",
    "browser = Firefox()\n",
    "browser.get(url)\n",
    "sleep(1.2)\n",
    "\n"
   ]
  },
  {
   "cell_type": "markdown",
   "metadata": {},
   "source": []
  },
  {
   "cell_type": "code",
   "execution_count": 6,
   "metadata": {},
   "outputs": [],
   "source": [
    "div_1 = browser.find_element(By.ID, 'python')\n",
    "#out 'Python\\nCriada em 1991'\n",
    "div_1_text = div_1.find_element(By.TAG_NAME, 'h2').text\n",
    "#out Python"
   ]
  },
  {
   "cell_type": "markdown",
   "metadata": {},
   "source": []
  },
  {
   "cell_type": "markdown",
   "metadata": {},
   "source": [
    "#### Procurando Itens por Linguagem"
   ]
  },
  {
   "cell_type": "code",
   "execution_count": 8,
   "metadata": {},
   "outputs": [],
   "source": [
    "#Parte2\n",
    "from selenium.webdriver import Firefox\n",
    "from selenium.webdriver.common.by import By\n",
    "from time import sleep\n",
    "\n",
    "url = 'https://curso-python-selenium.netlify.app/aula_05_b.html'\n",
    "browser = Firefox()\n",
    "browser.get(url)\n",
    "sleep(1.2)"
   ]
  },
  {
   "cell_type": "code",
   "execution_count": 9,
   "metadata": {},
   "outputs": [],
   "source": [
    "linguagens = browser.find_elements(By.CLASS_NAME, 'linguagens')"
   ]
  },
  {
   "cell_type": "code",
   "execution_count": 14,
   "metadata": {},
   "outputs": [
    {
     "name": "stdout",
     "output_type": "stream",
     "text": [
      "('Python', 'Criada em 1991')\n",
      "('Haskell', 'Criada em 1990')\n",
      "('Lisp', 'Criada em 1958')\n",
      "('Prolog', 'Criada em 1972')\n"
     ]
    }
   ],
   "source": [
    "for linguagen in linguagens:\n",
    "    print(\n",
    "        (linguagen.find_element(By.TAG_NAME, 'h2').text,\n",
    "         linguagen.find_element(By.TAG_NAME, 'p').text\n",
    "        )\n",
    "    )"
   ]
  },
  {
   "cell_type": "markdown",
   "metadata": {},
   "source": []
  },
  {
   "cell_type": "markdown",
   "metadata": {},
   "source": [
    "Atributos por nome"
   ]
  },
  {
   "cell_type": "code",
   "execution_count": 18,
   "metadata": {},
   "outputs": [],
   "source": [
    "#Parte1\n",
    "from selenium.webdriver import Firefox\n",
    "from selenium.webdriver.common.by import By\n",
    "from time import sleep\n",
    "\n",
    "url = 'https://curso-python-selenium.netlify.app/aula_05_c.html'\n",
    "browser = Firefox()\n",
    "browser.get(url)\n",
    "sleep(1.2)\n",
    "\n",
    "def melhor_filme(filme, email, telefone):\n",
    "    \"\"\"\n",
    "    Funcao recebe inputs, envia para formulario e aperta 'Enviar'\n",
    "    \"\"\"\n",
    "    filme_i = browser.find_element(By.NAME, 'filme')\n",
    "    filme_i.send_keys(filme)\n",
    "    email_i = browser.find_element(By.NAME, 'email')\n",
    "    email_i.send_keys(email)\n",
    "    telefone_i = browser.find_element(By.NAME, 'telefone')\n",
    "    telefone_i.send_keys(telefone)\n",
    "    enviar_i = browser.find_element(By.NAME, 'enviar').click()\n",
    "\n",
    "melhor_filme('Parasita', '123@gg.com.br', '(011)80391406')\n",
    "\n",
    "browser.quit()"
   ]
  },
  {
   "cell_type": "markdown",
   "metadata": {},
   "source": [
    "WebElement Formularios"
   ]
  },
  {
   "cell_type": "markdown",
   "metadata": {},
   "source": [
    "Targets\n",
    "\n",
    "- target = _self = preenche na msm janela  | _blank = abre e preenche em outra pagina\n",
    "- method = get = na URL                    | post = por request\n",
    "- action = URL                             | #"
   ]
  },
  {
   "cell_type": "markdown",
   "metadata": {},
   "source": [
    "Formulario Metodo FORM"
   ]
  },
  {
   "cell_type": "code",
   "execution_count": 26,
   "metadata": {},
   "outputs": [],
   "source": [
    "from selenium.webdriver import Firefox\n",
    "from selenium.webdriver.common.by import By\n",
    "from time import sleep\n",
    "\n",
    "url = 'https://curso-python-selenium.netlify.app/aula_05.html'\n",
    "browser = Firefox()\n",
    "browser.get(url)\n",
    "sleep(1.2)\n",
    "\n",
    "def preenche_formulario(nome, email, senha, telefone):\n",
    "    \"\"\"\n",
    "    Recebe inputs e clicar no botao enviar\n",
    "    \"\"\"\n",
    "    browser.find_element(By.NAME, 'nome').send_keys(nome)\n",
    "    browser.find_element(By.NAME, 'email').send_keys(email)\n",
    "    browser.find_element(By.NAME, 'senha').send_keys(senha)\n",
    "    browser.find_element(By.NAME, 'telefone').send_keys(telefone)\n",
    "    browser.find_element(By.NAME, 'btn').click()\n",
    "\n",
    "preenche_formulario('igor', 'emailigorfake@gg.br', '123', '(011)40028922')"
   ]
  }
 ],
 "metadata": {
  "kernelspec": {
   "display_name": "venv",
   "language": "python",
   "name": "python3"
  },
  "language_info": {
   "codemirror_mode": {
    "name": "ipython",
    "version": 3
   },
   "file_extension": ".py",
   "mimetype": "text/x-python",
   "name": "python",
   "nbconvert_exporter": "python",
   "pygments_lexer": "ipython3",
   "version": "3.12.1"
  }
 },
 "nbformat": 4,
 "nbformat_minor": 2
}
