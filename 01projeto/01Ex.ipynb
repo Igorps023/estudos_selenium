{
 "cells": [
  {
   "cell_type": "code",
   "execution_count": 2,
   "metadata": {},
   "outputs": [],
   "source": [
    "from selenium.webdriver import Firefox\n",
    "from selenium.webdriver.common.by import By\n",
    "import time\n",
    "#url = 'https:www.google.com.br'\n",
    "url = 'https://curso-python-selenium.netlify.app/exercicio_01.html'\n",
    "browser = Firefox()\n",
    "browser.get(url)\n",
    "time.sleep(1.5)\n",
    "\n",
    "#Dictionary\n",
    "dicionario = {}\n",
    "\n",
    "for item in\n",
    "tag_h1 = browser.find_element(By.TAG_NAME, 'h1')\n",
    "# elemento_a = browser.find_element(By.TAG_NAME, \"a\")\n",
    "\n",
    "# for click in range(10):\n",
    "#     ps = browser.find_elements(By.TAG_NAME, \"p\")\n",
    "#     elemento_a.click()\n",
    "#     print(f'Valor ultimo p: {ps[-1].text} Valor do Click:{click}')\n",
    "#     print(f'Valores sao iguais {ps[-1].text == str(click)}')"
   ]
  },
  {
   "cell_type": "code",
   "execution_count": 4,
   "metadata": {},
   "outputs": [
    {
     "data": {
      "text/plain": [
       "'Boas vindas'"
      ]
     },
     "execution_count": 4,
     "metadata": {},
     "output_type": "execute_result"
    }
   ],
   "source": [
    "tag_h1.text"
   ]
  },
  {
   "cell_type": "code",
   "execution_count": null,
   "metadata": {},
   "outputs": [],
   "source": []
  }
 ],
 "metadata": {
  "kernelspec": {
   "display_name": "venv",
   "language": "python",
   "name": "python3"
  },
  "language_info": {
   "codemirror_mode": {
    "name": "ipython",
    "version": 3
   },
   "file_extension": ".py",
   "mimetype": "text/x-python",
   "name": "python",
   "nbconvert_exporter": "python",
   "pygments_lexer": "ipython3",
   "version": "3.12.1"
  }
 },
 "nbformat": 4,
 "nbformat_minor": 2
}
