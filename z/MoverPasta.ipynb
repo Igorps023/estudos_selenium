{
 "cells": [
  {
   "cell_type": "code",
   "execution_count": 37,
   "metadata": {},
   "outputs": [],
   "source": [
    "import shutil\n",
    "import os\n",
    "from pathlib import Path"
   ]
  },
  {
   "cell_type": "code",
   "execution_count": 38,
   "metadata": {},
   "outputs": [],
   "source": [
    "source_path = Path(r'C:\\Users\\stree\\OneDrive\\Desktop\\PastaTesteMovert\\Pasta1')\n",
    "\n",
    "destination_path = Path(r'C:\\Users\\stree\\OneDrive\\Desktop\\PastaTesteMovert\\Pasta2')"
   ]
  },
  {
   "cell_type": "code",
   "execution_count": 39,
   "metadata": {},
   "outputs": [
    {
     "data": {
      "text/plain": [
       "['texto.txt']"
      ]
     },
     "execution_count": 39,
     "metadata": {},
     "output_type": "execute_result"
    }
   ],
   "source": [
    "# Todos arquivos no diretorio\n",
    "lista_arquivos_pasta = os.listdir(source_path)\n",
    "lista_arquivos_pasta"
   ]
  },
  {
   "cell_type": "code",
   "execution_count": 40,
   "metadata": {},
   "outputs": [],
   "source": [
    "# Somente excel\n",
    "lista_arquivos_pasta_xlsx = [file for file in lista_arquivos_pasta if file.endswith('.xlsx')]"
   ]
  },
  {
   "cell_type": "code",
   "execution_count": 41,
   "metadata": {},
   "outputs": [],
   "source": [
    "for j in lista_arquivos_pasta_xlsx:\n",
    "    full_source_path = source_path.joinpath(j)\n",
    "    full_destination_path = destination_path.joinpath(j)\n",
    "    shutil.move(full_source_path, full_destination_path)"
   ]
  }
 ],
 "metadata": {
  "kernelspec": {
   "display_name": "venv",
   "language": "python",
   "name": "python3"
  },
  "language_info": {
   "codemirror_mode": {
    "name": "ipython",
    "version": 3
   },
   "file_extension": ".py",
   "mimetype": "text/x-python",
   "name": "python",
   "nbconvert_exporter": "python",
   "pygments_lexer": "ipython3",
   "version": "3.12.1"
  }
 },
 "nbformat": 4,
 "nbformat_minor": 2
}
