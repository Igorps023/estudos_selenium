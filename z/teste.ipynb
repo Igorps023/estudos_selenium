{
 "cells": [
  {
   "cell_type": "code",
   "execution_count": null,
   "metadata": {},
   "outputs": [],
   "source": [
    "import pandas as pd\n",
    "import numpy as np\n",
    "import os\n",
    "from pathlib import Path\n",
    "import glob\n",
    "\n",
    "import logging\n",
    "logging.basicConfig(filename='myProgramLog.txt', level=logging.DEBUG, format='%(asctime)s -  %(levelname)s -  %(message)s')\n",
    "\n",
    "logging.debug('Start of program')"
   ]
  },
  {
   "cell_type": "code",
   "execution_count": null,
   "metadata": {},
   "outputs": [],
   "source": [
    "print(os.getcwd())"
   ]
  },
  {
   "cell_type": "code",
   "execution_count": null,
   "metadata": {},
   "outputs": [],
   "source": [
    "arquivos = ['teste.csv', 'janela.csv', 'item.csv']\n",
    "caminho = Path(r'C:\\Users\\stree\\OneDrive\\Desktop\\XLSX')\n",
    "\n",
    "for j in arquivos:\n",
    "    print(Path( caminho.joinpath(j) ).as_posix() )"
   ]
  },
  {
   "cell_type": "markdown",
   "metadata": {},
   "source": []
  },
  {
   "cell_type": "code",
   "execution_count": null,
   "metadata": {},
   "outputs": [],
   "source": [
    "Path.cwd()"
   ]
  },
  {
   "cell_type": "code",
   "execution_count": null,
   "metadata": {},
   "outputs": [],
   "source": [
    "Path.home()"
   ]
  },
  {
   "cell_type": "code",
   "execution_count": null,
   "metadata": {},
   "outputs": [],
   "source": [
    "os.listdir(caminho)"
   ]
  },
  {
   "cell_type": "code",
   "execution_count": null,
   "metadata": {},
   "outputs": [],
   "source": [
    "list(caminho.glob('*EstadoSP*') )"
   ]
  },
  {
   "cell_type": "code",
   "execution_count": null,
   "metadata": {},
   "outputs": [],
   "source": [
    "#Gera uma lista com pastas, arquivos, etc.\n",
    "arquivos_excel = os.listdir(caminho)\n",
    "arquivos_excel"
   ]
  },
  {
   "cell_type": "code",
   "execution_count": 103,
   "metadata": {},
   "outputs": [
    {
     "name": "stdout",
     "output_type": "stream",
     "text": [
      "List of files:\n",
      "OcorrenciaMensal(Criminal)-EstadoSP_2022.xlsx\n",
      "OcorrenciaMensal(Criminal)-EstadoSP_20240105_101459.xlsx\n"
     ]
    }
   ],
   "source": [
    "caminho = Path(r'C:\\Users\\stree\\OneDrive\\Desktop\\XLSX')\n",
    "\n",
    "filtro = list(\n",
    "    filter(lambda x: os.path.isfile(os.path.join(caminho, x)), arquivos_excel)\n",
    ")\n",
    "\n",
    "#Printa cada item da lista que nao e um arquivo\n",
    "print(\"List of files:\")\n",
    "for file_name in filtro:\n",
    "    print(file_name)"
   ]
  },
  {
   "cell_type": "code",
   "execution_count": null,
   "metadata": {},
   "outputs": [],
   "source": []
  }
 ],
 "metadata": {
  "kernelspec": {
   "display_name": "venv",
   "language": "python",
   "name": "python3"
  },
  "language_info": {
   "codemirror_mode": {
    "name": "ipython",
    "version": 3
   },
   "file_extension": ".py",
   "mimetype": "text/x-python",
   "name": "python",
   "nbconvert_exporter": "python",
   "pygments_lexer": "ipython3",
   "version": "3.12.1"
  }
 },
 "nbformat": 4,
 "nbformat_minor": 2
}
